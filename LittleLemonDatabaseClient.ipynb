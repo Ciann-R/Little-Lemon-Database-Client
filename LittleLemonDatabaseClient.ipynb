{
 "cells": [
  {
   "cell_type": "markdown",
   "id": "956590d5",
   "metadata": {},
   "source": [
    "## Prerequisites:\n",
    "\n",
    "### Setting up the database."
   ]
  },
  {
   "cell_type": "markdown",
   "id": "4937b978",
   "metadata": {},
   "source": [
    "Install *mysql-connector-python* if necessary."
   ]
  },
  {
   "cell_type": "code",
   "execution_count": 1,
   "id": "f329ac82",
   "metadata": {},
   "outputs": [],
   "source": [
    "#!pip install mysql-connector-python"
   ]
  },
  {
   "cell_type": "markdown",
   "id": "c26b06fe",
   "metadata": {},
   "source": [
    " #### Importing packages"
   ]
  },
  {
   "cell_type": "code",
   "execution_count": 56,
   "id": "253808ea",
   "metadata": {},
   "outputs": [
    {
     "name": "stdout",
     "output_type": "stream",
     "text": [
      "MySQL Connector/Python API has imported sucessfully.\n"
     ]
    }
   ],
   "source": [
    "import mysql.connector as connector\n",
    "from mysql.connector import errorcode\n",
    "print(\"MySQL Connector/Python API has imported sucessfully.\")"
   ]
  },
  {
   "cell_type": "markdown",
   "id": "af650010",
   "metadata": {},
   "source": [
    "#### Establishing a connection"
   ]
  },
  {
   "cell_type": "code",
   "execution_count": 57,
   "id": "cb275b80",
   "metadata": {},
   "outputs": [
    {
     "name": "stdout",
     "output_type": "stream",
     "text": [
      "Establishing a new connection between the MySQL database and Python...\n",
      "A connection between the MySQL database and Python has been sucessfully established.\n"
     ]
    }
   ],
   "source": [
    "#Establishing a connection between MySQL database and Python via the connecotr API.\n",
    "\n",
    "print(\"Establishing a new connection between the MySQL database and Python...\")\n",
    "\n",
    "\n",
    "try:\n",
    "    connection = connector.connect(\n",
    "                                   user = \"root\",\n",
    "                                   password = \"password\",\n",
    "                                  )\n",
    "    \n",
    "    print(\"A connection between the MySQL database and Python has been sucessfully established.\")\n",
    "    \n",
    "    \n",
    "except connector.Error as error:\n",
    "    \n",
    "    if error.errno == errorcode.ER_ACCESS_DENIED_ERROR:\n",
    "        print(\"Connection User or Password incorrect\")\n",
    "    elif error.errno == errorcode.ER_BAD_DB_ERROR:\n",
    "        print(\"Database does not exist\")\n",
    "    else:\n",
    "        print(\"Error code:\", error.errno)\n",
    "        print(\"Error message:\", error.msg)\n",
    "    \n",
    "    "
   ]
  },
  {
   "cell_type": "markdown",
   "id": "14ec564b",
   "metadata": {},
   "source": [
    "#### Creating a cursor"
   ]
  },
  {
   "cell_type": "code",
   "execution_count": 58,
   "id": "a1557a8f",
   "metadata": {},
   "outputs": [],
   "source": [
    "#Creating a cursor object to communicate with the MySQL database.\n",
    "cursor = connection.cursor()"
   ]
  },
  {
   "cell_type": "markdown",
   "id": "26e4abd7",
   "metadata": {},
   "source": [
    "#### Creating the database and setting it for use"
   ]
  },
  {
   "cell_type": "code",
   "execution_count": 59,
   "id": "a67f3425",
   "metadata": {},
   "outputs": [
    {
     "name": "stdout",
     "output_type": "stream",
     "text": [
      "The database little_lemon_db has been created and set for use.\n"
     ]
    }
   ],
   "source": [
    "#Creating the database. If it exists, it will be dropped and recreated.\n",
    "\n",
    "try:\n",
    "    cursor.execute(\"\"\"CREATE DATABASE little_lemon_db\"\"\")\n",
    "\n",
    "except:\n",
    "    cursor.execute(\"\"\"DROP DATABASE little_lemon_db\"\"\")\n",
    "    cursor.execute(\"\"\"CREATE DATABASE little_lemon_db\"\"\")\n",
    "    cursor.execute(\"\"\"USE little_lemon_db\"\"\")\n",
    "    \n",
    "print(\"The database little_lemon_db has been created and set for use.\")"
   ]
  },
  {
   "cell_type": "markdown",
   "id": "76ef9a5a",
   "metadata": {},
   "source": [
    "#### Creating tables\n",
    "- Menu items table\n",
    "- Menu table\n",
    "- Booking table\n",
    "- orders table\n",
    "- Employee table"
   ]
  },
  {
   "cell_type": "code",
   "execution_count": 60,
   "id": "83cdffd7",
   "metadata": {},
   "outputs": [],
   "source": [
    "\n",
    "cursor.execute(\"\"\"USE little_lemon_db\"\"\")\n",
    "#Creating the menu items table.\n",
    "create_menuitem_table = \"\"\"CREATE TABLE MenuItems (\n",
    "ItemID INT AUTO_INCREMENT,\n",
    "Name VARCHAR(200),\n",
    "Type VARCHAR(100),\n",
    "Price INT,\n",
    "PRIMARY KEY (ItemID)\n",
    ");\"\"\"\n",
    "\n",
    "\n",
    "#Creating the menu table.\n",
    "create_menu_table = \"\"\"CREATE TABLE Menus (\n",
    "MenuID INT,\n",
    "ItemID INT,\n",
    "Cuisine VARCHAR(100),\n",
    "PRIMARY KEY (MenuID,ItemID)\n",
    ");\"\"\"\n",
    "\n",
    "#Creating the booking table.\n",
    "create_booking_table = \"\"\"CREATE TABLE Bookings (\n",
    "BookingID INT AUTO_INCREMENT,\n",
    "TableNo INT,\n",
    "GuestFirstName VARCHAR(100) NOT NULL,\n",
    "GuestLastName VARCHAR(100) NOT NULL,\n",
    "BookingSlot TIME NOT NULL,\n",
    "EmployeeID INT,\n",
    "PRIMARY KEY (BookingID)\n",
    ");\"\"\"\n",
    "\n",
    "#Creating the orders table.\n",
    "create_orders_table = \"\"\"CREATE TABLE Orders (\n",
    "OrderID INT,\n",
    "TableNo INT,\n",
    "MenuID INT,\n",
    "BookingID INT,\n",
    "BillAmount INT,\n",
    "Quantity INT,\n",
    "PRIMARY KEY (OrderID,TableNo)\n",
    ");\"\"\"\n",
    "\n",
    "#Creating the employees table.\n",
    "create_employees_table = \"\"\"CREATE TABLE Employees (\n",
    "EmployeeID INT AUTO_INCREMENT PRIMARY KEY,\n",
    "Name VARCHAR(255),\n",
    "Role VARCHAR(255),\n",
    "Address VARCHAR(255),\n",
    "Contact_Number INT,\n",
    "Email VARCHAR(255),\n",
    "Annual_Salary VARCHAR(50)\n",
    ");\"\"\""
   ]
  },
  {
   "cell_type": "code",
   "execution_count": 61,
   "id": "017a907c",
   "metadata": {},
   "outputs": [
    {
     "name": "stdout",
     "output_type": "stream",
     "text": [
      "The menu items table has been created.\n",
      "The menu table has been created.\n",
      "The bookings table has been created.\n",
      "The orders table has been created.\n",
      "The employees table has been created.\n"
     ]
    }
   ],
   "source": [
    "# Create MenuItems table\n",
    "cursor.execute(create_menuitem_table)\n",
    "print(\"The menu items table has been created.\")\n",
    "\n",
    "# Create Menu table\n",
    "cursor.execute(create_menu_table)\n",
    "print(\"The menu table has been created.\")\n",
    "\n",
    "# Create Bookings table\n",
    "cursor.execute(create_booking_table)\n",
    "print(\"The bookings table has been created.\")\n",
    "\n",
    "# Create Orders table\n",
    "cursor.execute(create_orders_table)\n",
    "print(\"The orders table has been created.\")\n",
    "\n",
    "# Create Employees table\n",
    "cursor.execute(create_employees_table)\n",
    "print(\"The employees table has been created.\")"
   ]
  },
  {
   "cell_type": "markdown",
   "id": "7b420d46",
   "metadata": {},
   "source": [
    "#### Inserting data into tables"
   ]
  },
  {
   "cell_type": "code",
   "execution_count": 62,
   "id": "53b241ed",
   "metadata": {},
   "outputs": [],
   "source": [
    "#*******************************************************#\n",
    "# Insert query to populate \"MenuItems\" table:\n",
    "#*******************************************************#\n",
    "insert_menuitems=\"\"\"\n",
    "INSERT INTO MenuItems (ItemID, Name, Type, Price)\n",
    "VALUES\n",
    "(1, 'Olives','Starters',5),\n",
    "(2, 'Flatbread','Starters', 5),\n",
    "(3, 'Minestrone', 'Starters', 8),\n",
    "(4, 'Tomato bread','Starters', 8),\n",
    "(5, 'Falafel', 'Starters', 7),\n",
    "(6, 'Hummus', 'Starters', 5),\n",
    "(7, 'Greek salad', 'Main Courses', 15),\n",
    "(8, 'Bean soup', 'Main Courses', 12),\n",
    "(9, 'Pizza', 'Main Courses', 15),\n",
    "(10, 'Greek yoghurt','Desserts', 7),\n",
    "(11, 'Ice cream', 'Desserts', 6),\n",
    "(12, 'Cheesecake', 'Desserts', 4),\n",
    "(13, 'Athens White wine', 'Drinks', 25),\n",
    "(14, 'Corfu Red Wine', 'Drinks', 30),\n",
    "(15, 'Turkish Coffee', 'Drinks', 10),\n",
    "(16, 'Turkish Coffee', 'Drinks', 10),\n",
    "(17, 'Kabasa', 'Main Courses', 17);\"\"\"\n",
    "\n",
    "#*******************************************************#\n",
    "# Insert query to populate \"Menu\" table:\n",
    "#*******************************************************#\n",
    "insert_menu=\"\"\"\n",
    "INSERT INTO Menus (MenuID,ItemID,Cuisine)\n",
    "VALUES\n",
    "(1, 1, 'Greek'),\n",
    "(1, 7, 'Greek'),\n",
    "(1, 10, 'Greek'),\n",
    "(1, 13, 'Greek'),\n",
    "(2, 3, 'Italian'),\n",
    "(2, 9, 'Italian'),\n",
    "(2, 12, 'Italian'),\n",
    "(2, 15, 'Italian'),\n",
    "(3, 5, 'Turkish'),\n",
    "(3, 17, 'Turkish'),\n",
    "(3, 11, 'Turkish'),\n",
    "(3, 16, 'Turkish');\"\"\"\n",
    "\n",
    "#*******************************************************#\n",
    "# Insert query to populate \"Bookings\" table:\n",
    "#*******************************************************#\n",
    "insert_bookings=\"\"\"\n",
    "INSERT INTO Bookings (BookingID, TableNo, GuestFirstName, \n",
    "GuestLastName, BookingSlot, EmployeeID)\n",
    "VALUES\n",
    "(1, 12, 'Anna','Iversen','19:00:00',1),\n",
    "(2, 12, 'Joakim', 'Iversen', '19:00:00', 1),\n",
    "(3, 19, 'Vanessa', 'McCarthy', '15:00:00', 3),\n",
    "(4, 15, 'Marcos', 'Romero', '17:30:00', 4),\n",
    "(5, 5, 'Hiroki', 'Yamane', '18:30:00', 2),\n",
    "(6, 8, 'Diana', 'Pinto', '20:00:00', 5);\"\"\"\n",
    "\n",
    "#*******************************************************#\n",
    "# Insert query to populate \"Orders\" table:\n",
    "#*******************************************************#\n",
    "insert_orders=\"\"\"\n",
    "INSERT INTO Orders (OrderID, TableNo, MenuID, BookingID, Quantity, BillAmount)\n",
    "VALUES\n",
    "(1, 12, 1, 1, 2, 86),\n",
    "(2, 19, 2, 2, 1, 37),\n",
    "(3, 15, 2, 3, 1, 37),\n",
    "(4, 5, 3, 4, 1, 40),\n",
    "(5, 8, 1, 5, 1, 43);\"\"\"\n",
    "\n",
    "#*******************************************************#\n",
    "# Insert query to populate \"Employees\" table:\n",
    "#*******************************************************#\n",
    "insert_employees = \"\"\"\n",
    "INSERT INTO Employees (EmployeeID, Name, Role, Address, Contact_Number, Email, Annual_Salary)\n",
    "VALUES\n",
    "(01,'Mario Gollini','Manager','724 Parsley Lane, Old Town, Chicago, IL', 351258074,'Mario.g@littlelemon.com','$70,000'),\n",
    "(02,'Adrian Gollini','Assistant Manager','334 Dill Square, Lincoln Park, Chicago, IL',351474048,'Adrian.g@littlelemon.com','$65,000'),\n",
    "(03,'Giorgos Dioudis','Head Chef','879 Sage Street, West Loop, Chicago, IL',351970582,'Giorgos.d@littlelemon.com','$50,000'),\n",
    "(04,'Fatma Kaya','Assistant Chef','132  Bay Lane, Chicago, IL',351963569,'Fatma.k@littlelemon.com','$45,000'),\n",
    "(05,'Elena Salvai','Head Waiter','989 Thyme Square, EdgeWater, Chicago, IL',351074198,'Elena.s@littlelemon.com','$40,000'),\n",
    "(06,'John Millar','Receptionist','245 Dill Square, Lincoln Park, Chicago, IL',351584508,'John.m@littlelemon.com','$35,000');\"\"\"\n"
   ]
  },
  {
   "cell_type": "code",
   "execution_count": 63,
   "id": "a7415f10",
   "metadata": {},
   "outputs": [
    {
     "name": "stdout",
     "output_type": "stream",
     "text": [
      "The menu items data has been successfully inserted.\n",
      "The menu data has been successfully inserted.\n",
      "The booking data has been successfully inserted.\n",
      "The orders data has been successfully inserted.\n",
      "The employee data has been successfully inserted.\n"
     ]
    }
   ],
   "source": [
    "# Populate MenuItems table\n",
    "cursor.execute(insert_menuitems)\n",
    "connection.commit()\n",
    "print(\"The menu items data has been successfully inserted.\")\n",
    "\n",
    "# Populate Menu table\n",
    "cursor.execute(insert_menu)\n",
    "connection.commit()\n",
    "print(\"The menu data has been successfully inserted.\")\n",
    "\n",
    "# Populate Bookings table\n",
    "cursor.execute(insert_bookings)\n",
    "connection.commit()\n",
    "print(\"The booking data has been successfully inserted.\")\n",
    "\n",
    "# Populate Orders table\n",
    "cursor.execute(insert_orders)\n",
    "connection.commit()\n",
    "print(\"The orders data has been successfully inserted.\")\n",
    "\n",
    "# Populate Employees table\n",
    "cursor.execute(insert_employees)\n",
    "connection.commit()\n",
    "print(\"The employee data has been successfully inserted.\")"
   ]
  },
  {
   "cell_type": "markdown",
   "id": "f409087d",
   "metadata": {},
   "source": [
    "# Task 1: Creating and establishing the connection pool."
   ]
  },
  {
   "cell_type": "code",
   "execution_count": 64,
   "id": "e7fcb3d0",
   "metadata": {},
   "outputs": [
    {
     "name": "stdout",
     "output_type": "stream",
     "text": [
      "The connection pool \"pool_a\" has been created.\n",
      "The pool size is: 2\n"
     ]
    }
   ],
   "source": [
    "from mysql.connector.pooling import MySQLConnectionPool\n",
    "\n",
    "#database configuration\n",
    "dbconfig = {\n",
    "    \"database\":\"little_lemon_db\",\n",
    "    \"user\":\"root\",\n",
    "    \"password\":\"password\"\n",
    "}\n",
    "\n",
    "try:\n",
    "    pool = MySQLConnectionPool(pool_name = \"pool_a\",\n",
    "                               pool_size = 2,\n",
    "                                **dbconfig\n",
    "                              )\n",
    "    print(\"The connection pool \\\"{}\\\" has been created.\".format(pool.pool_name))\n",
    "    print(\"The pool size is:\", pool.pool_size)\n",
    "\n",
    "\n",
    "except:\n",
    "    print(\"Error Code:\", Error.errno)\n",
    "    print(\"Error message:\", Error.msg)\n"
   ]
  },
  {
   "cell_type": "code",
   "execution_count": 65,
   "id": "4def4b5c",
   "metadata": {},
   "outputs": [
    {
     "name": "stdout",
     "output_type": "stream",
     "text": [
      "Establishing the connection to \"pool_a\".\n",
      "A user with connection id \"18\" is connected to the database.\n",
      "Creating the cursor object: \"cursor_a\"\n"
     ]
    }
   ],
   "source": [
    "\n",
    "#Establishing a connection to the connection pool \"pool_a\".\n",
    "print(\"Establishing the connection to \\\"{}\\\".\".format(pool.pool_name))\n",
    "\n",
    "connection_a = pool.get_connection()\n",
    "print(\"A user with connection id \\\"{}\\\" is connected to the database.\".format(connection_a.connection_id))\n",
    "\n",
    "\n",
    "#Creating the cursor object to communicate with the entire MySQL database.\n",
    "print(\"Creating the cursor object: \\\"cursor_a\\\"\")\n",
    "cursor_a = connection_a.cursor()\n",
    "\n",
    "\n"
   ]
  },
  {
   "cell_type": "markdown",
   "id": "b71d4bd1",
   "metadata": {},
   "source": [
    "# Task 2: Creating the \"PeakHours\" procedure.\n",
    "\n",
    "*Via the connection pool \"pool_a\"*"
   ]
  },
  {
   "cell_type": "code",
   "execution_count": 66,
   "id": "bf0da30d",
   "metadata": {},
   "outputs": [
    {
     "name": "stdout",
     "output_type": "stream",
     "text": [
      "['BookingSlotHour', 'NumberOfBookingSlots']\n",
      "(19, 2)\n",
      "(15, 1)\n",
      "(17, 1)\n",
      "(18, 1)\n",
      "(20, 1)\n"
     ]
    }
   ],
   "source": [
    "#Dropping the procedure if it already exists.\n",
    "cursor_a.execute(\"\"\"DROP PROCEDURE IF EXISTS PeakHours\"\"\")\n",
    "\n",
    "\n",
    "#Creating the stored \"PeakHours\" procedure.\n",
    "peak_hours = \"\"\"CREATE PROCEDURE PeakHours()\n",
    "                BEGIN\n",
    "                SELECT\n",
    "                HOUR(BookingSlot) AS BookingSlotHour, COUNT(HOUR(BookingSlot)) AS NumberOfBookingSlots\n",
    "                FROM Bookings\n",
    "                GROUP BY HOUR(BookingSlot)\n",
    "                ORDER BY COUNT(HOUR(BookingSlot)) DESC;\n",
    "                END\n",
    "                \"\"\"\n",
    "\n",
    "#Executing the Query.\n",
    "cursor_a.execute(peak_hours)\n",
    "\n",
    "#Calling the stored procedure with its name.\n",
    "cursor_a.callproc(\"PeakHours\")\n",
    "\n",
    "#Fetching and storing the results.\n",
    "peakhour_results = next(cursor_a.stored_results())\n",
    "peakhour_dataset = peakhour_results.fetchall()\n",
    "\n",
    "#Retrieving the column names.\n",
    "for column_id in cursor_a.stored_results():\n",
    "    cols = [column[0] for column in column_id.description]\n",
    "\n",
    "#Printing the column names.   \n",
    "print(cols)\n",
    "\n",
    "#printing the data points (hours and respective number of hours counted).\n",
    "for data in peakhour_dataset:\n",
    "    print(data)"
   ]
  },
  {
   "cell_type": "markdown",
   "id": "7f184bf0",
   "metadata": {},
   "source": [
    "# Task 3: Creating the \"GuestStatus\" procedure.\n",
    "*Via the connection pool \"pool_a\".*"
   ]
  },
  {
   "cell_type": "code",
   "execution_count": 67,
   "id": "0f7d5788",
   "metadata": {},
   "outputs": [
    {
     "name": "stdout",
     "output_type": "stream",
     "text": [
      "['BookingID', 'GuestName', 'Status']\n",
      "(1, 'Anna Iversen', 'Ready to pay')\n",
      "(2, 'Joakim Iversen', 'Ready to pay')\n",
      "(3, 'Vanessa McCarthy', 'Ready to serve')\n",
      "(4, 'Marcos Romero', 'Preparing Order')\n",
      "(5, 'Hiroki Yamane', 'Ready to pay')\n",
      "(6, 'Diana Pinto', 'Order Served')\n"
     ]
    }
   ],
   "source": [
    "#Dropping the procedure if it already exists.\n",
    "cursor_a.execute(\"\"\"DROP PROCEDURE IF EXISTS GuestStatus\"\"\")\n",
    "\n",
    "#Creating the \"GuestStatus\" procedure.\n",
    "guest_status = \"\"\"CREATE PROCEDURE GuestStatus()\n",
    "                 BEGIN\n",
    "                 SELECT \n",
    "                 Bookings.BookingID, \n",
    "                 CONCAT(Bookings.GuestFirstName, \" \", Bookings.GuestLastName) AS GuestName,\n",
    "                 CASE \n",
    "                 WHEN Role = \"Manager\" THEN \"Ready to pay\"\n",
    "                 WHEN Role = \"Assistant Manager\" THEN \"Ready to pay\"\n",
    "                 WHEN Role = \"Head Chef\" THEN \"Ready to serve\"\n",
    "                 WHEN Role = \"Assistant Chef\" THEN \"Preparing Order\"\n",
    "                 WHEN Role = \"Head Waiter\" THEN \"Order Served\"\n",
    "                 ELSE \"In Queue\"\n",
    "                 END AS Status\n",
    "                 FROM Bookings LEFT JOIN Employees ON Bookings.EmployeeID = Employees.EmployeeID;\n",
    "                 END\n",
    "        \n",
    "              \"\"\"\n",
    "\n",
    "#Executing the Query.\n",
    "cursor_a.execute(guest_status)\n",
    "\n",
    "#Calling the stored procedure with its name.\n",
    "cursor_a.callproc(\"GuestStatus\")\n",
    "\n",
    "#Fetching and storing the results.\n",
    "gueststatus_results = next(cursor_a.stored_results())\n",
    "gueststatus_dataset = gueststatus_results.fetchall()\n",
    "\n",
    "\n",
    "#Retrieving the column names.\n",
    "for column_id in cursor_a.stored_results():\n",
    "    columns = [column[0] for column in column_id.description]\n",
    "\n",
    "#Printing the column names.   \n",
    "print(columns)\n",
    "\n",
    "#printing the data points (BookingID, The guests full name, The status of their order).\n",
    "for data in gueststatus_dataset:\n",
    "    print(data)\n"
   ]
  },
  {
   "cell_type": "markdown",
   "id": "3442f67a",
   "metadata": {},
   "source": [
    "### Closing the initial connection and the connection pool along with their corresponding cursor objects.\n"
   ]
  },
  {
   "cell_type": "markdown",
   "id": "4904e094",
   "metadata": {},
   "source": [
    "The initial conneciton"
   ]
  },
  {
   "cell_type": "code",
   "execution_count": 68,
   "id": "9e73b375",
   "metadata": {},
   "outputs": [
    {
     "name": "stdout",
     "output_type": "stream",
     "text": [
      "The initial cursor is closed.\n",
      "The initial connection is closed.\n"
     ]
    }
   ],
   "source": [
    "if connection.is_connected():\n",
    "    cursor.close()\n",
    "    print(\"The initial cursor is closed.\")\n",
    "    connection.close()\n",
    "    print(\"The initial connection is closed.\")\n",
    "else:\n",
    "    print(\"The initial connection is already closed\")\n",
    "    "
   ]
  },
  {
   "cell_type": "markdown",
   "id": "09e2d2d2",
   "metadata": {},
   "source": [
    "The conneciton pool \"pool_a\""
   ]
  },
  {
   "cell_type": "code",
   "execution_count": 69,
   "id": "36b9cb56",
   "metadata": {},
   "outputs": [
    {
     "name": "stdout",
     "output_type": "stream",
     "text": [
      "The pool_a cursor is closed.\n",
      "The connection_a connection is closed.\n"
     ]
    }
   ],
   "source": [
    "if connection_a.is_connected():\n",
    "    cursor_a.close()\n",
    "    print(\"The pool_a cursor is closed.\")\n",
    "    connection_a.close()\n",
    "    print(\"The connection_a connection is closed.\")\n",
    "else:\n",
    "    print(\"The conneciton_a connection is already closed\")"
   ]
  },
  {
   "cell_type": "markdown",
   "id": "de84295c",
   "metadata": {},
   "source": [
    "# Little Lemon analysis and sales report"
   ]
  },
  {
   "cell_type": "markdown",
   "id": "be91dcad",
   "metadata": {},
   "source": [
    "## Task 1: Establishing a connection pool."
   ]
  },
  {
   "cell_type": "code",
   "execution_count": 70,
   "id": "4e835fa0",
   "metadata": {},
   "outputs": [
    {
     "name": "stdout",
     "output_type": "stream",
     "text": [
      "The connection pool \"pool_b\" has been created.\n",
      "The pool size is: 2\n"
     ]
    }
   ],
   "source": [
    "from mysql.connector.pooling import MySQLConnectionPool\n",
    "from mysql.connector import errorcode\n",
    "\n",
    "#database configuration\n",
    "dbconfig = {\n",
    "    \"database\":\"little_lemon_db\",\n",
    "    \"user\":\"root\",\n",
    "    \"password\":\"password\"\n",
    "}\n",
    "\n",
    "try:\n",
    "    pool = MySQLConnectionPool(pool_name = \"pool_b\",\n",
    "                               pool_size = 2, #Default is 5.\n",
    "                                **dbconfig\n",
    "                              )\n",
    "    print(\"The connection pool \\\"{}\\\" has been created.\".format(pool.pool_name))\n",
    "    print(\"The pool size is:\", pool.pool_size)\n",
    "\n",
    "\n",
    "except connector.Error as Error:\n",
    "    print(\"Error Code:\", Error.errno)\n",
    "    print(\"Error message:\", Error.msg)"
   ]
  },
  {
   "cell_type": "markdown",
   "id": "2887d29a",
   "metadata": {},
   "source": [
    "## Task 2: Adding a third guest to the connection pool."
   ]
  },
  {
   "cell_type": "markdown",
   "id": "887c4b16",
   "metadata": {},
   "source": [
    "Connection 1."
   ]
  },
  {
   "cell_type": "code",
   "execution_count": 71,
   "id": "071c8093",
   "metadata": {},
   "outputs": [
    {
     "name": "stdout",
     "output_type": "stream",
     "text": [
      "Establishing the connection to \"pool_b\".\n",
      "A user with connection id \"20\" is connected to the database.\n",
      "A new booking has been added to the Bookings table\n"
     ]
    }
   ],
   "source": [
    "import mysql.connector as connector\n",
    "\n",
    "#Establishing a connection for 1 of 2 pool occupants.\n",
    "#Establishing a connection to the connection pool \"pool_b\".\n",
    "print(\"Establishing the connection to \\\"{}\\\".\".format(pool.pool_name))\n",
    "\n",
    "connection_b1 = pool.get_connection()\n",
    "print(\"A user with connection id \\\"{}\\\" is connected to the database.\".format(connection_b1.connection_id))\n",
    "\n",
    "cursor_b1 = connection_b1.cursor()\n",
    "\n",
    "#Inserting new data into the bookings table.\n",
    "booking_1 = \"\"\"INSERT INTO Bookings (TableNo, GuestFirstName, GuestLastName, BookingSlot, EmployeeID)\n",
    "               VALUES\n",
    "               (\"8\", \"Anees\", \"Java\", \"18:00\", 6);\"\"\"\n",
    "\n",
    "#Executing the query.\n",
    "cursor_b1.execute(booking_1)\n",
    "#Commiting the change to the database.\n",
    "connection_b1.commit()\n",
    "\n",
    "print(\"A new booking has been added to the Bookings table\")\n",
    "               "
   ]
  },
  {
   "cell_type": "markdown",
   "id": "a97780b1",
   "metadata": {},
   "source": [
    "Connection 2."
   ]
  },
  {
   "cell_type": "code",
   "execution_count": 72,
   "id": "2b61898b",
   "metadata": {},
   "outputs": [
    {
     "name": "stdout",
     "output_type": "stream",
     "text": [
      "Establishing the connection to \"pool_b\".\n",
      "A user with connection id \"21\" is connected to the database.\n",
      "A new booking has been added to the Bookings table\n"
     ]
    }
   ],
   "source": [
    "#Establishing a connection for 2 of 2 pool occupants.\n",
    "#Establishing a connection to the connection pool \"pool_b\".\n",
    "print(\"Establishing the connection to \\\"{}\\\".\".format(pool.pool_name))\n",
    "\n",
    "connection_b2 = pool.get_connection()\n",
    "print(\"A user with connection id \\\"{}\\\" is connected to the database.\".format(connection_b2.connection_id))\n",
    "\n",
    "cursor_b2 = connection_b2.cursor()\n",
    "\n",
    "#Inserting new data into the bookings table.\n",
    "booking_2 = \"\"\"INSERT INTO Bookings (TableNo, GuestFirstName, GuestLastName, BookingSlot, EmployeeID)\n",
    "               VALUES\n",
    "               (\"5\", \"Bald\", \"Vin\", \"19:00\", 6);\"\"\"\n",
    "\n",
    "#Executing the query.\n",
    "cursor_b2.execute(booking_2)\n",
    "#Commiting the change to the database.\n",
    "connection_b2.commit()\n",
    "\n",
    "print(\"A new booking has been added to the Bookings table\")"
   ]
  },
  {
   "cell_type": "markdown",
   "id": "0122a656",
   "metadata": {},
   "source": [
    "Connection 3. Adding a new connection to the connection pool."
   ]
  },
  {
   "cell_type": "code",
   "execution_count": 73,
   "id": "e7e669bd",
   "metadata": {},
   "outputs": [
    {
     "name": "stdout",
     "output_type": "stream",
     "text": [
      "No connection available\n",
      "Creating a new connection\n",
      "A new connection has been added to the connection pool\n"
     ]
    }
   ],
   "source": [
    "#Establishing a new connection to the pool.\n",
    "try:\n",
    "    \n",
    "    connection_b3 = pool.get_connection()\n",
    "    print(\"Connection Successful. {} is connected.\".format(connection_b3.connection_id))\n",
    "    \n",
    "except:\n",
    "    \n",
    "    print(\"No connection available\")\n",
    "    print(\"Creating a new connection\")\n",
    "    \n",
    "    #Create the connection.\n",
    "    connection = connector.connect(user = \"root\",\n",
    "                                   password = \"password\"\n",
    "                                  )\n",
    "    #Add the connection into the pool.\n",
    "    pool.add_connection(cnx = connection)\n",
    "    print(\"A new connection has been added to the connection pool\")\n",
    "    "
   ]
  },
  {
   "cell_type": "code",
   "execution_count": 74,
   "id": "a4e3cbd0",
   "metadata": {},
   "outputs": [
    {
     "name": "stdout",
     "output_type": "stream",
     "text": [
      "Establishing the connection to \"pool_b\".\n",
      "A user with connection id \"21\" is connected to the database.\n",
      "A new booking has been added to the Bookings table\n"
     ]
    }
   ],
   "source": [
    "#Establishing a connection for 3 of 3 pool occupants.\n",
    "#Establishing a connection to the connection pool \"pool_b\".\n",
    "print(\"Establishing the connection to \\\"{}\\\".\".format(pool.pool_name))\n",
    "\n",
    "connection_b3 = pool.get_connection()\n",
    "print(\"A user with connection id \\\"{}\\\" is connected to the database.\".format(connection_b2.connection_id))\n",
    "\n",
    "cursor_b3 = connection_b3.cursor()\n",
    "\n",
    "#Inserting new data into the bookings table.\n",
    "booking_3 = \"\"\"INSERT INTO Bookings (TableNo, GuestFirstName, GuestLastName, BookingSlot, EmployeeID)\n",
    "               VALUES\n",
    "               (\"12\", \"Jay\", \"Kon\", \"19:30\", 6);\"\"\"\n",
    "\n",
    "#Executing the query.\n",
    "cursor_b3.execute(booking_3)\n",
    "#Commiting the change to the database.\n",
    "connection_b3.commit()\n",
    "\n",
    "print(\"A new booking has been added to the Bookings table\")\n",
    "\n"
   ]
  },
  {
   "cell_type": "markdown",
   "id": "e8fbe72c",
   "metadata": {},
   "source": [
    "Closing the connections."
   ]
  },
  {
   "cell_type": "code",
   "execution_count": 75,
   "id": "0b83fd8f",
   "metadata": {},
   "outputs": [
    {
     "name": "stdout",
     "output_type": "stream",
     "text": [
      "Connection has returned to the pool.\n",
      "Connection has returned to the pool.\n",
      "Connection cannot be returned to pool\n",
      "Error message: Failed adding connection; queue is full\n",
      "Cursor closed\n",
      "Cursor closed\n",
      "Cursor closed\n"
     ]
    }
   ],
   "source": [
    "from mysql.connector import Error\n",
    "for connection in [connection_b1, connection_b2, connection_b3]:\n",
    "    try:\n",
    "        connection.close()\n",
    "        print(\"Connection has returned to the pool.\")#.format(connection.connection_id))\n",
    "    except Error as err:\n",
    "        print(\"Connection cannot be returned to pool\")\n",
    "        print(\"Error message:\", err.msg)\n",
    "\n",
    "for cursors in [cursor_b1, cursor_b2, cursor_b3]:\n",
    "    try:\n",
    "        cursor.close()\n",
    "        print(\"Cursor closed\")\n",
    "    except Error as err:\n",
    "        print(\"Cursor cannot be closed\")\n",
    "        print(\"Error message: \", err.msg)"
   ]
  },
  {
   "cell_type": "markdown",
   "id": "f3b7eeeb",
   "metadata": {},
   "source": [
    "## Task 3: Create a report."
   ]
  },
  {
   "cell_type": "code",
   "execution_count": 76,
   "id": "30a705ef",
   "metadata": {},
   "outputs": [
    {
     "name": "stdout",
     "output_type": "stream",
     "text": [
      "Establishing the connection to \"pool_b\".\n",
      "A user with connection id \"20\" is connected to the database.\n",
      "Creating the cursor object\n",
      "The cursor has been created\n"
     ]
    }
   ],
   "source": [
    "#Establishing a connection to the connection pool \"pool_b\".\n",
    "print(\"Establishing the connection to \\\"{}\\\".\".format(pool.pool_name))\n",
    "\n",
    "connection = pool.get_connection()\n",
    "print(\"A user with connection id \\\"{}\\\" is connected to the database.\".format(connection.connection_id))\n",
    "\n",
    "\n",
    "#Creating the cursor object to communicate with the entire MySQL database.\n",
    "print(\"Creating the cursor object\")\n",
    "cursor = connection.cursor(buffered = True)\n",
    "print(\"The cursor has been created\")"
   ]
  },
  {
   "cell_type": "markdown",
   "id": "a9b72597",
   "metadata": {},
   "source": [
    "Creating the report."
   ]
  },
  {
   "cell_type": "code",
   "execution_count": 77,
   "id": "681bca89",
   "metadata": {},
   "outputs": [
    {
     "name": "stdout",
     "output_type": "stream",
     "text": [
      "*------------------------------*\n",
      "*-----------REPORT-------------*\n",
      "*------------------------------*\n",
      "('Name', 'EmployeeID')\n",
      "('Mario Gollini', 1)\n",
      "('Name', 'Role')\n",
      "('Mario Gollini', 'Manager')\n",
      "('NoOfGuests',)\n",
      "(7,)\n",
      "('BookingID', 'FullName', 'Role')\n",
      "(9, 'Jay Kon', 'Receptionist')\n",
      "(8, 'Bald Vin', 'Receptionist')\n",
      "(7, 'Anees Java', 'Receptionist')\n"
     ]
    }
   ],
   "source": [
    "#Query obtaining required details of Little Lemon's manager.\n",
    "manager_details = \"\"\"SELECT \n",
    "                     Name, EmployeeID\n",
    "                     FROM \n",
    "                     Employees\n",
    "                     WHERE Role = \"Manager\";\n",
    "                     \"\"\"\n",
    "#Query obtaining required details of Little Lemon's highest annual earner.\n",
    "highest_earner_details = \"\"\"SELECT \n",
    "                            Name, Role\n",
    "                            FROM Employees\n",
    "                            ORDER BY Annual_Salary DESC\n",
    "                            LIMIT 1\n",
    "                            \"\"\"\n",
    "\n",
    "#Query obtaining the number of guests booked in between the times 18:00 and 20:00.\n",
    "number_of_guests = \"\"\"SELECT\n",
    "                      COUNT(BookingID) AS NoOfGuests\n",
    "                      FROM BookiNgs\n",
    "                      WHERE BookingSlot BETWEEN \"18:00:00\" AND \"20:00:00\";\n",
    "                      \"\"\"\n",
    "\n",
    "#Query obtaining ordered guest list waiting to be seated. Ordered by booking slot.\n",
    "guest_list = \"\"\"SELECT\n",
    "                Bookings.BookingID, CONCAT(Bookings.GuestFirstName, \" \", Bookings.GuestLastName) AS FullName, Role\n",
    "                FROM Bookings LEFT JOIN Employees \n",
    "                ON Bookings.EmployeeID = Employees.EmployeeID\n",
    "                WHERE Role = \"Receptionist\"\n",
    "                ORDER BY BookingSlot DESC;\n",
    "                \"\"\"\n",
    "\n",
    "\n",
    "#Executing and fetching the results.\n",
    "print(\"*------------------------------*\")\n",
    "print(\"*-----------REPORT-------------*\")\n",
    "print(\"*------------------------------*\")\n",
    "for i in [manager_details, highest_earner_details, number_of_guests, guest_list]:\n",
    "    cursor_ = cursor.execute(i)\n",
    "    results = cursor.fetchall()\n",
    "    columns = cursor.column_names\n",
    "    print(columns)\n",
    "    for result in results:\n",
    "        print(result)\n",
    "    \n",
    "    \n",
    "    \n",
    "    "
   ]
  },
  {
   "cell_type": "markdown",
   "id": "ae76ddc1",
   "metadata": {},
   "source": [
    "## Task 4: BasicSalesReport\n",
    "\n",
    "*Using the previous connections*"
   ]
  },
  {
   "cell_type": "code",
   "execution_count": 78,
   "id": "ea148e05",
   "metadata": {},
   "outputs": [
    {
     "name": "stdout",
     "output_type": "stream",
     "text": [
      "*------------------------------------------*\n",
      "*-----------Basic Sales Report-------------*\n",
      "*------------------------------------------*\n",
      "TotalSales : 243\n",
      "AverageSales : 48.60\n",
      "MinimumSale : 37\n",
      "MaximumSale : 86\n"
     ]
    }
   ],
   "source": [
    "\n",
    "#Dropping the procedure from the database if it already exists.\n",
    "cursor.execute(\"\"\"DROP PROCEDURE IF EXISTS BasicSalesReport;\"\"\")\n",
    "\n",
    "#Query containing basic sales report statistics.\n",
    "basic_sales_report = \"\"\"CREATE PROCEDURE BasicSalesReport()\n",
    "                        BEGIN\n",
    "                        \n",
    "                        SELECT \n",
    "                        SUM(BillAmount) AS TotalSales,\n",
    "                        CAST(AVG(BillAmount) AS DECIMAL(4,2)) AS AverageSales,\n",
    "                        MIN(BillAmount) AS MinimumSale,\n",
    "                        MAX(BillAmount) AS MaximumSale\n",
    "                        FROM Orders;\n",
    "                        END\n",
    "                        \"\"\"\n",
    "#Executing and calling the procedure.\n",
    "cursor.execute(basic_sales_report)\n",
    "cursor.callproc(\"BasicSalesReport\")\n",
    "\n",
    "#Fetching and string results.\n",
    "report_results = next(cursor.stored_results())\n",
    "report_dataset = report_results.fetchall()\n",
    "\n",
    "#Obtaining column names.\n",
    "for column_id in cursor.stored_results():\n",
    "    columns = [column[0] for column in column_id.description]\n",
    "\n",
    "\n",
    "print(\"*------------------------------------------*\")\n",
    "print(\"*-----------Basic Sales Report-------------*\")\n",
    "print(\"*------------------------------------------*\")\n",
    "\n",
    "for result in report_dataset:\n",
    "    print( columns[0],\":\",result[0])\n",
    "    print(columns[1],\":\",result[1])\n",
    "    print(columns[2],\":\",result[2])\n",
    "    print(columns[3],\":\",result[3])\n"
   ]
  },
  {
   "cell_type": "markdown",
   "id": "3e0145b3",
   "metadata": {},
   "source": [
    "Closing the connection."
   ]
  },
  {
   "cell_type": "code",
   "execution_count": 79,
   "id": "75999c06",
   "metadata": {},
   "outputs": [
    {
     "name": "stdout",
     "output_type": "stream",
     "text": [
      "The cursor is closed.\n",
      "The connection is closed and returned to the pool.\n"
     ]
    }
   ],
   "source": [
    "if connection.is_connected():\n",
    "    cursor.close()\n",
    "    print(\"The cursor is closed.\")\n",
    "    connection.close()\n",
    "    print(\"The connection is closed and returned to the pool.\")\n",
    "else:\n",
    "    print(\"The connection is already closed\")\n",
    "    "
   ]
  },
  {
   "cell_type": "markdown",
   "id": "4df610f5",
   "metadata": {},
   "source": [
    "## Task 5: Displaying forthcoming bookings on the kitchen screen."
   ]
  },
  {
   "cell_type": "markdown",
   "id": "6589b6d8",
   "metadata": {},
   "source": [
    "Establishng a connection and creating a buffered cursor."
   ]
  },
  {
   "cell_type": "code",
   "execution_count": 87,
   "id": "9073cf9b",
   "metadata": {},
   "outputs": [
    {
     "name": "stdout",
     "output_type": "stream",
     "text": [
      "Establishing the connection to \"pool_b\".\n",
      "A user with connection id \"21\" is connected to the database.\n",
      "Creating the cursor object\n",
      "The cursor has been created\n"
     ]
    }
   ],
   "source": [
    "#Establishing a connection to the connection pool \"pool_b\".\n",
    "print(\"Establishing the connection to \\\"{}\\\".\".format(pool.pool_name))\n",
    "\n",
    "connection = pool.get_connection()\n",
    "print(\"A user with connection id \\\"{}\\\" is connected to the database.\".format(connection.connection_id))\n",
    "\n",
    "\n",
    "#Creating the cursor object to communicate with the entire MySQL database.\n",
    "print(\"Creating the cursor object\")\n",
    "cursor = connection.cursor(buffered = True)\n",
    "print(\"The cursor has been created\")"
   ]
  },
  {
   "cell_type": "code",
   "execution_count": 88,
   "id": "69abd39c",
   "metadata": {},
   "outputs": [
    {
     "name": "stdout",
     "output_type": "stream",
     "text": [
      "*-------------------------------------------------*\n",
      "*-------------Order Data (3 Guests)---------------*\n",
      "*-------------------------------------------------*\n",
      "Booking Slot:  15:00:00\n",
      "Guest Name:  Vanessa McCarthy\n",
      "Host:  Giorgos Dioudis \" Head Chef \"\n",
      "Booking Slot:  17:30:00\n",
      "Guest Name:  Marcos Romero\n",
      "Host:  Fatma Kaya \" Assistant Chef \"\n",
      "Booking Slot:  18:00:00\n",
      "Guest Name:  Anees Java\n",
      "Host:  John Millar \" Receptionist \"\n"
     ]
    }
   ],
   "source": [
    "#Query obtaining 3 guests booking data.\n",
    "booking_data = \"\"\" SELECT\n",
    "                   Bookings.Bookingslot, \n",
    "                   CONCAT(GuestFirstName, \" \", GuestLastName) AS FullName, \n",
    "                   Employees.Name,\n",
    "                   Employees.Role\n",
    "                   FROM Bookings INNER JOIN Employees\n",
    "                   ON Bookings.EmployeeID = Employees.EmployeeID\n",
    "                   ORDER BY BookingSlot ASC\n",
    "                   LIMIT 3;\n",
    "                   \"\"\"\n",
    "#Executing the query, fetching and storing the results.\n",
    "cursor.execute(booking_data)\n",
    "dataset = cursor.fetchall()\n",
    "\n",
    "\n",
    "\n",
    "#Printing the data obtained from the query to be displayed on screen.\n",
    "print(\"*-------------------------------------------------*\")\n",
    "print(\"*-------------Order Data (3 Guests)---------------*\")\n",
    "print(\"*-------------------------------------------------*\")\n",
    "for result in dataset:\n",
    "    print(\"Booking Slot: \",result[0])\n",
    "    print(\"Guest Name: \", result[1])\n",
    "    print(\"Host: \", result[2], \"\\\"\",result[3],\"\\\"\")\n",
    "\n"
   ]
  },
  {
   "cell_type": "code",
   "execution_count": 89,
   "id": "62c9cdab",
   "metadata": {},
   "outputs": [
    {
     "name": "stdout",
     "output_type": "stream",
     "text": [
      "('00:00:00',)\n"
     ]
    }
   ],
   "source": [
    "cursor.execute(\"\"\"SELECT ADDTIME(\"1:00:00\", \"-1:00:00\")\"\"\")\n",
    "results=cursor.fetchall()\n",
    "for result in results:\n",
    "    print(result)\n",
    "    \n",
    "    "
   ]
  },
  {
   "cell_type": "code",
   "execution_count": 86,
   "id": "545e3c33",
   "metadata": {},
   "outputs": [
    {
     "name": "stdout",
     "output_type": "stream",
     "text": [
      "The cursor is closed.\n",
      "The connection is closed and returned to the pool.\n"
     ]
    }
   ],
   "source": [
    "if connection.is_connected():\n",
    "    cursor.close()\n",
    "    print(\"The cursor is closed.\")\n",
    "    connection.close()\n",
    "    print(\"The connection is closed and returned to the pool.\")\n",
    "else:\n",
    "    print(\"The connection is already closed\")"
   ]
  },
  {
   "cell_type": "code",
   "execution_count": null,
   "id": "59441784",
   "metadata": {},
   "outputs": [],
   "source": []
  },
  {
   "cell_type": "code",
   "execution_count": null,
   "id": "c5a24762",
   "metadata": {},
   "outputs": [],
   "source": []
  }
 ],
 "metadata": {
  "kernelspec": {
   "display_name": "Python 3 (ipykernel)",
   "language": "python",
   "name": "python3"
  },
  "language_info": {
   "codemirror_mode": {
    "name": "ipython",
    "version": 3
   },
   "file_extension": ".py",
   "mimetype": "text/x-python",
   "name": "python",
   "nbconvert_exporter": "python",
   "pygments_lexer": "ipython3",
   "version": "3.9.12"
  }
 },
 "nbformat": 4,
 "nbformat_minor": 5
}
